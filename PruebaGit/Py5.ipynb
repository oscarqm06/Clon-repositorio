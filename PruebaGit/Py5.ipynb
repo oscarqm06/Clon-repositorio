{
 "cells": [
  {
   "cell_type": "markdown",
   "metadata": {},
   "source": [
    "---\n",
    "\n",
    "**Universidad de Costa Rica** | Escuela de Ingeniería Eléctrica\n",
    "\n",
    "*IE0405 - Modelos Probabilísticos de Señales y Sistemas*\n",
    "\n",
    "### `PyX` - Serie de tutoriales de Python para el análisis de datos\n",
    "\n",
    "\n",
    "# `Py5` - *Curvas de ajuste de datos*\n",
    "\n",
    "> Los modelos para describir un fenómeno y sus parámetros pueden obtenerse a partir de una muestra de datos. Debido a la gran cantidad de modelos probabilísticos disponibles, a menudo es necesario hacer una comparación de ajuste entre muchas de ellas.\n",
    "\n",
    "*Fabián Abarca Calderón* \\\n",
    "*Jonathan Rojas Sibaja*\n",
    "\n",
    "---"
   ]
  },
  {
   "cell_type": "markdown",
   "metadata": {},
   "source": [
    "## Ajuste de modelos\n",
    "\n",
    "El ajuste de modelos es ampliamente utilizado para obtener un modelo matemático que caracterize el comportamiento de cierto sistema basandose en los datos experimentales obtenidos. Este modelo deberá predecir también otras medidas experimentales que se obtengan de su recreación.\n",
    "\n",
    "### Estimación de máxima verosimilitud (MLE)\n",
    "\n",
    "(Esto es de menor prioridad) La estimación de máxima verosimilitud (**MLE**, *maximum likelihood estimation*) es...\n"
   ]
  },
  {
   "cell_type": "markdown",
   "metadata": {},
   "source": [
    "---\n",
    "## 5.1 - Con el módulo `numpy`\n",
    "\n",
    "Para iniciar, con la función `polyfit()` de la librería `numpy` se puede realizar el ajuste de datos experimentals a polinomios de cualquier orden. Esta función devuelve los parámetros de la recta para un modelo lineal de la forma:\n",
    "$$\n",
    "f(x) = mx + b\n",
    "$$\n",
    "Esto en el caso de un polinomio de grado 1. Un ejemplo utilizando este método es el siguiente:"
   ]
  },
  {
   "cell_type": "code",
   "execution_count": null,
   "metadata": {},
   "outputs": [],
   "source": [
    "from numpy import *\n",
    "import matplotlib.pyplot as plt\n",
    "# Datos experimentales\n",
    "x = array([ 0.,  1.,  2.,  3.,  4.])\n",
    "y = array([ 10.2 ,  12.1,  15.5 ,  18.3,  20.6 ])\n",
    "\n",
    "# Ajuste a una recta (polinomio de grado 1)\n",
    "p = polyfit(x, y, 1)\n",
    "# Una vez conocidos los parámetros de la recta de ajuste,\n",
    "#se pueden utilizar para graficar la recta de ajuste.\n",
    "y_ajuste = p[0]*x + p[1]\n",
    "\n",
    "# Dibujamos los datos experimentales\n",
    "p_datos, = plt.plot(x, y, 'b.')\n",
    "# Dibujamos la recta de ajuste\n",
    "p_ajuste, = plt.plot(x, y_ajuste, 'r-')\n",
    "\n",
    "plt.title('Ajuste lineal por minimos cuadrados')\n",
    "\n",
    "plt.xlabel('Eje x')\n",
    "plt.ylabel('Eje y')\n",
    "\n",
    "plt.legend(('Datos experimentales', 'Ajuste lineal'), loc=\"upper left\")"
   ]
  },
  {
   "cell_type": "markdown",
   "metadata": {},
   "source": [
    "En el caso de otro tipo de regresiones, se debe aumentar el grado del polinomio. Por ejemplo, el caso de una regresió polinomial se muestra a continuación:"
   ]
  },
  {
   "cell_type": "code",
   "execution_count": null,
   "metadata": {},
   "outputs": [],
   "source": [
    "import numpy\n",
    "import matplotlib.pyplot as plt\n",
    "#Lo primero es crear los vectores que definen los puntos de datos\n",
    "x = [1,2,3,5,6,7,8,9,10,12,13,14,15,16,18,19,21,22]\n",
    "y = [100,90,80,60,60,55,60,65,70,70,75,76,78,79,90,99,99,100]\n",
    "#Este método nos permite crear un modelo polinomial\n",
    "mimodelo = numpy.poly1d(numpy.polyfit(x, y, 3))\n",
    "#Esto determina cómo se mostrara la línea, la cual inicia en 1 \n",
    "#y termina en 22\n",
    "milinea = numpy.linspace(1,22,100)\n",
    "#Y por último graficamos los datos y la curva de\n",
    "#la regresion polinomial\n",
    "plt.scatter(x,y)\n",
    "plt.plot(milinea, mimodelo(milinea))\n",
    "plt.show()"
   ]
  },
  {
   "cell_type": "markdown",
   "metadata": {},
   "source": [
    "Una vez trazada la recta de mejor ajuste, se puede obtener el valor de un punto dado, evaluando la curva en dicho punto. por ejemplo si quisieramos obtener el valor dado para un valor de 17 en el eje x, entonces sería:"
   ]
  },
  {
   "cell_type": "code",
   "execution_count": null,
   "metadata": {},
   "outputs": [],
   "source": [
    "valor = mimodelo(17)\n",
    "print(valor)"
   ]
  },
  {
   "cell_type": "markdown",
   "metadata": {},
   "source": [
    "---\n",
    "## 5.2 - Con el módulo `stats`\n",
    "\n",
    "En este caso existen diversos comandos que pueden ser utilizados para crear diferentes distribuciones basadas en datos dados. por ejemplo, partiendo de los datos de un histograma de una PDF, se puede crear el la curva de dicha distribución normal utiliando el comando `scipy.stats.rv_histogram`, además también se puede graficar el CDF de dichos datos: "
   ]
  },
  {
   "cell_type": "code",
   "execution_count": null,
   "metadata": {},
   "outputs": [],
   "source": [
    "  import scipy.stats\n",
    "  import numpy as np\n",
    "  import matplotlib.pyplot as plt\n",
    "\n",
    "  data = scipy.stats.norm.rvs(size=100000, loc=0, scale=1.5, random_state=123)\n",
    "  hist = np.histogram(data, bins=100)\n",
    "  hist_dist = scipy.stats.rv_histogram(hist)\n",
    "  X = np.linspace(-5.0, 5.0, 100)\n",
    "  plt.title(\"Datos aleatorios\")\n",
    "  plt.hist(data, density=True, bins=100)\n",
    "  plt.show()"
   ]
  },
  {
   "cell_type": "code",
   "execution_count": null,
   "metadata": {},
   "outputs": [],
   "source": [
    "X = np.linspace(-5.0, 5.0, 100)\n",
    "plt.title(\"PDF de los datos\")\n",
    "plt.plot(X, hist_dist.pdf(X), label='PDF')\n",
    "plt.show()"
   ]
  },
  {
   "cell_type": "code",
   "execution_count": null,
   "metadata": {},
   "outputs": [],
   "source": [
    "X = np.linspace(-5.0, 5.0, 100)\n",
    "plt.title(\"CDF de los datos\")\n",
    "plt.plot(X, hist_dist.cdf(X), label='CDF')\n",
    "plt.show()"
   ]
  },
  {
   "cell_type": "markdown",
   "metadata": {},
   "source": [
    "Otro paquete que brinda la librería ´Scipy´ es ´optimize´ el cuál tiene algorítmos de curvas de ajuste por medio de la función ´curve_fit´ con la cuál se pueden ajustar curvas de sistemas no lineales utilizando mínimos cuadrados. A continuación un ejemplo de su implementación para encontrar la recta de mejor ajuste ante una serie de datos experimentales obtenidos:"
   ]
  },
  {
   "cell_type": "code",
   "execution_count": null,
   "metadata": {},
   "outputs": [],
   "source": [
    "import numpy\n",
    "from scipy.optimize import curve_fit\n",
    "import matplotlib.pyplot as plt\n",
    "\n",
    "def _polynomial(x, *p):\n",
    "       \"\"\"Ajuste polinomial de grado arbitrario\"\"\"\n",
    "       poly = 0.\n",
    "       for i, n in enumerate(p):\n",
    "           poly += n * x**i\n",
    "       return poly\n",
    "\n",
    "# Se definen los datos experimentales:\n",
    "x = numpy.linspace(0., numpy.pi)\n",
    "y = numpy.cos(x) + 0.05 * numpy.random.normal(size=len(x))\n",
    "\n",
    "# p0 es la suposición inicial para los coeficientes de ajuste, este valor\n",
    "# establece el orden del polinomio que desea ajustar. Aquí yo\n",
    "# ya establecí todas las conjeturas iniciales en 1., es posible que tenga una mejor idea de\n",
    "# qué valores esperar en función de sus datos.\n",
    "p0 = numpy.ones(6,)\n",
    "\n",
    "coeff, var_matrix = curve_fit(_polynomial, x, y, p0=p0)\n",
    "\n",
    "yfit = [_polynomial(xx, *tuple(coeff)) for xx in x]\n",
    "\n",
    "plt.plot(x, y, label='Test data')\n",
    "plt.plot(x, yfit, label='fitted data')\n",
    "\n",
    "plt.show()"
   ]
  },
  {
   "cell_type": "markdown",
   "metadata": {},
   "source": [
    "---\n",
    "## 5.3 - Con la librería `fitter`\n",
    "\n",
    "Si es necesario, el paquete de `fitter` provee una simple clases la cual identifica la distribución de la cuál las muestras de datos son generados. Utiliza 80 distribuciones de Scipy y permite graficar los resultados para verificar que dicha distribución es la que mejor se ajusta a los datos. En el siguiente ejemplo se generarán los una muestra de 1000 puntos con una distribución gamma, para luego utilizar `fitter` el cuál revisará las 80 distribuciones de Scipy y desplegará un resumen con las distribuciones que calzan de mejor forma con nuestros datos, basandose en la suma del cuadrado de los errores. Los resultados del resumen se puede verificar de manera visual en las gráficas que dicho resumen traza por sí mismo:"
   ]
  },
  {
   "cell_type": "code",
   "execution_count": null,
   "metadata": {},
   "outputs": [],
   "source": [
    "from scipy import stats\n",
    "from fitter import Fitter\n",
    "\n",
    "# Crear los datos\n",
    "data = stats.gamma.rvs(2, loc=1.5, scale=2, size=1000)\n",
    "\n",
    "# Definir cuáles distribuciones queremos que evalúe\n",
    "f = Fitter(data, distributions=['gamma', 'rayleigh', 'uniform'])\n",
    "f.fit()\n",
    "f.summary()"
   ]
  },
  {
   "cell_type": "markdown",
   "metadata": {},
   "source": [
    "Por último, un ejemplo que que ilustra la combinación de el paquete ´scipy.stats´ y ´fitter´ es mediante el modulo ´histfit´, el cuál permite graficar tanto los datos y también las curvas de mejor ajuste al agregar ruido a la medición y calcular ese ajuste en 10 ocaciones, ´Nfit = 10´. En este caso la serie de datos utilizada corresponde a una distribuación normal (creada con el paquete ´scipy.stats´) y se obtuvieron 10 curvas de mejor ajuste ante diversos casos de ruido (con ´error_rate = 0.01´) y además se obtuvo un estimado de los valores correspondientes a la media, la varianza y la amplitud de la distribución de las curvas de mejor ajuste."
   ]
  },
  {
   "cell_type": "code",
   "execution_count": null,
   "metadata": {},
   "outputs": [],
   "source": [
    "from fitter import HistFit\n",
    "from pylab import hist\n",
    "import scipy.stats\n",
    "#Creamos la curva con distribución normal\n",
    "data = [scipy.stats.norm.rvs(2,3.4) for x in  range(10000)]\n",
    "#Graficamos los valores asignándoles espaciamiento temporal\n",
    "Y, X, _ = hist(data, bins=30)\n",
    "#Creamos las curvas de mejor ajuste\n",
    "hf = HistFit(X=X, Y=Y)\n",
    "#Aplicamos un margen de error para simular ruido y calcular 10\n",
    "#curvas de mejor ajuste\n",
    "hf.fit(error_rate=0.01, Nfit=10)\n",
    "#Obtenemos los valores correspondientes a la media, la varianza y \n",
    "#la amplitud de las curvas de mejor ajuste\n",
    "print(hf.mu, hf.sigma, hf.amplitude)"
   ]
  },
  {
   "cell_type": "markdown",
   "metadata": {},
   "source": [
    "---\n",
    "### Más información\n",
    "\n",
    "* [Página web](https://www.google.com/)\n",
    "* Libro o algo\n",
    "* Tutorial [w3schools](https://www.w3schools.com/python/)"
   ]
  },
  {
   "cell_type": "markdown",
   "metadata": {},
   "source": [
    "---\n",
    "**Universidad de Costa Rica** | Facultad de Ingeniería | Escuela de Ingeniería Eléctrica\n",
    "\n",
    "&copy; 2021\n",
    "\n",
    "---"
   ]
  }
 ],
 "metadata": {
  "kernelspec": {
   "display_name": "Python 3",
   "language": "python",
   "name": "python3"
  },
  "language_info": {
   "codemirror_mode": {
    "name": "ipython",
    "version": 3
   },
   "file_extension": ".py",
   "mimetype": "text/x-python",
   "name": "python",
   "nbconvert_exporter": "python",
   "pygments_lexer": "ipython3",
   "version": "3.7.10"
  }
 },
 "nbformat": 4,
 "nbformat_minor": 2
}
