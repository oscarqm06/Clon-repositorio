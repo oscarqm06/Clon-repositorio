{
 "cells": [
  {
   "cell_type": "markdown",
   "metadata": {},
   "source": [
    "---\n",
    "\n",
    "**Universidad de Costa Rica** | Escuela de Ingeniería Eléctrica\n",
    "\n",
    "*IE0405 - Modelos Probabilísticos de Señales y Sistemas*\n",
    "\n",
    "### `PyX` - Serie de tutoriales de Python para el análisis de datos\n",
    "\n",
    "\n",
    "# `Py4` - *Introducción al módulo de funciones estadísticas*\n",
    "\n",
    "> El módulo **stats** de SciPy ofrece herramientas para manipulación de distribuciones estadísticas. Entre ellas: identificación de parámetros de ajuste para datos, cálculo de probabilidades en un intervalo, graficación de funciones de distribución, generación de datos aleatorios con una distribución particular, etc.\n",
    "\n",
    "*Fabián Abarca Calderón*\n",
    "\n",
    "---"
   ]
  },
  {
   "cell_type": "markdown",
   "metadata": {},
   "source": [
    "## Módulo `stats`\n",
    "\n",
    "```python\n",
    "from scipy import stats\n",
    "```\n",
    "\n",
    "> Este módulo contiene una gran cantidad de distribuciones de probabilidad, así como una creciente biblioteca de funciones estadísticas.\n",
    "\n",
    "Con más de 100 distribuciones estadísticas diferentes, muy posiblemente la que necesitamos está ahí. Tiene una variedad de:\n",
    "\n",
    "* Distribuciones continuas\n",
    "* Distribuciones multivariadas\n",
    "* Distribuciones discretas\n",
    "* Descriptores estadísticos (*summary statistics*)\n",
    "* ...\n",
    "\n",
    "La documentación oficial está en [Statistical functions (scipy.stats)](https://docs.scipy.org/doc/scipy/reference/stats.html)."
   ]
  },
  {
   "cell_type": "markdown",
   "metadata": {},
   "source": [
    "---\n",
    "## 4.1. - Creación de un \"objeto aleatorio\"\n",
    "\n",
    "Para iniciar la manipulación de las distribuciones, existen *clases* generales de variables aleatorias que son:\n",
    "\n",
    "* `rv_continuous`: Una clase de variable aleatoria **continua** genérica.\n",
    "* `rv_discrete`: Una clase de variable aleatoria **discreta** genérica.\n",
    "* `rv_histogram`: Genera una distribución dada por un histograma.\n",
    "\n",
    "(`rv` viene de *random variable*). A su vez, existen **subclases** de estas categorías que representan las distribuciones a utilizar. Por ejemplo:\n",
    "\n",
    "```python\n",
    "from scipy import stats\n",
    "\n",
    "W = stats.uniform(0,1)  # distribución uniforme\n",
    "X = stats.expon(0,1)    # distribución exponencial\n",
    "Y = stats.norm(0,1)     # distribución normal\n",
    "Z = stats.rayleigh(0,1) # distribución Rayleigh\n",
    "```\n",
    "\n",
    "Aquí, `W`, `X`, `Y` y `Z` son objetos que heredan las propiedades de las distribuciones indicadas. También se dice que son una versión \"congelada\" (*frozen*) de la variable aleatoria.\n",
    "\n",
    "La lista completa está en [Statistical functions (scipy.stats)](https://docs.scipy.org/doc/scipy/reference/stats.html)."
   ]
  },
  {
   "cell_type": "code",
   "execution_count": null,
   "metadata": {},
   "outputs": [],
   "source": [
    "from scipy import stats\n",
    "\n",
    "X = stats.uniform(0,1)\n",
    "\n",
    "print(type(X))"
   ]
  },
  {
   "cell_type": "markdown",
   "metadata": {},
   "source": [
    "---\n",
    "## 4.2. - Generación de datos aleatorios\n",
    "\n",
    "A menudo es necesario generar datos aleatorios con una distribución de probabilidad específica. En `stats` el método es `rvs` (de *random variates*), aplicado a un objeto aleatorio predefinido."
   ]
  },
  {
   "cell_type": "code",
   "execution_count": null,
   "metadata": {},
   "outputs": [],
   "source": [
    "from scipy import stats\n",
    "\n",
    "X = stats.uniform(0,1)\n",
    "\n",
    "a = X.rvs()\n",
    "b = X.rvs(5)\n",
    "print(a)\n",
    "print(b)"
   ]
  },
  {
   "cell_type": "markdown",
   "metadata": {},
   "source": [
    "---\n",
    "## 4.3. - Funciones de distribución\n",
    "\n",
    "Los objetos aleatorios ponen a disposición las dos funciones de distribución asociadas con cada modelo probabilístico.\n",
    "\n",
    "Las funciones de distribución son relevantes para el cálculo de probabilidades, cálculo de momentos, y para hacer gráficos, entre otras cosas.\n",
    "\n",
    "### 4.3.1. - Función de densidad de probabilidad\n",
    "\n",
    "El método `pdf` entrega la *probability density function* $f_X(x)$, que puede evaluarse para cualquier valor $x$ particular.\n",
    "\n",
    "### 4.3.2. - Función de probabilidad de masa\n",
    "\n",
    "El método `pmf` entrega la *probability mass function* $f_X(x) = P_X(x)$ para una variable aleatoria **discreta**, y puede evaluarse en valores $x$ discretos.\n",
    "\n",
    "### 4.3.3. - Función de probabilidad acumulativa\n",
    "\n",
    "El método `cdf` entrega la *cumulative distribution function* $F_X(x)$, que puede evaluarse para cualquier valor $x$ particular.\n",
    "\n",
    "*Ejemplo*\n",
    "\n",
    "Para la distribución [log-normal](https://en.wikipedia.org/wiki/Log-normal_distribution) `stats` [muestra](https://docs.scipy.org/doc/scipy/reference/generated/scipy.stats.lognorm.html#scipy.stats.lognorm) la siguiente función de densidad de probabilidad:\n",
    "\n",
    "$$\n",
    "\\displaystyle f_X(x,s) = {\\frac{1}{s x {\\sqrt {2\\pi }}}}\\ \\exp \\left(-{\\frac {\\left(\\ln x \\right)^{2}}{2 s^{2}}}\\right)\n",
    "$$\n",
    "\n",
    "Una evaluación numérica en $f_X(2,1)$, con parámetro $s = 1$ da como resultado $f_X(2,1) \\approx 0.15687$."
   ]
  },
  {
   "cell_type": "code",
   "execution_count": null,
   "metadata": {},
   "outputs": [],
   "source": [
    "from scipy import stats\n",
    "\n",
    "X = stats.lognorm(1)\n",
    "\n",
    "a = X.pdf(2)\n",
    "print(a)\n",
    "\n",
    "Y = stats.norm(0,1)\n",
    "\n",
    "b = Y.pdf(0)\n",
    "c = Y.cdf(0)\n",
    "print(b, c)"
   ]
  },
  {
   "cell_type": "markdown",
   "metadata": {},
   "source": [
    "### 4.3.4. - Función cuantil\n",
    "\n",
    "El método `ppf` entrega la *probability point function* $Q_X(p)$, que puede evaluarse para cualquier valor de probabilidad $0 \\leq p \\leq 1$.\n",
    "\n",
    "La función cuantil es la inversa de la función acumulativa (y por tanto en ocasiones su notación es $F_X^{-1}(p)$) e indica el valor $x$ en el cual $P(X \\leq x) = p$. Es útil porque permite saber dónde está el $100p$% de la distribución. $Q_X(0.45)$ se interpreta como \"¿en qué valor de $x$ está acumulado el 45% de la probabilidad de la distribución?\".\n",
    "\n",
    "Se utiliza a menudo al graficar para delimitar apropiadamente el soporte que tiene la curva. \n",
    "\n",
    "En el ejemplo a continuación, el 1% de una distribución uniforme entre 0 y 1 claramente está en 0.01, y el 99% en 0.99, pero excepto por este ejemplo, rara vez es tan sencillo saberlo. "
   ]
  },
  {
   "cell_type": "code",
   "execution_count": null,
   "metadata": {},
   "outputs": [],
   "source": [
    "import numpy as np \n",
    "from scipy import stats \n",
    "\n",
    "X = stats.uniform(0, 1)\n",
    "\n",
    "a = X.ppf(0.01)\n",
    "b = X.ppf(0.99)\n",
    "\n",
    "print(a, b)"
   ]
  },
  {
   "cell_type": "markdown",
   "metadata": {},
   "source": [
    "### 4.3.5. - Función de supervivencia\n",
    "\n",
    "El método `sf` entrega la *survival function* $S_X(x)$, que puede evaluarse para cualquier valor $x$ particular.\n",
    "\n",
    "La función de supervivencia es el complemento de la función acumulativa,\n",
    "\n",
    "$$\n",
    "S_X(x) = P(X > x) = 1 - P(X \\leq x) = 1 - F_X(x)\n",
    "$$"
   ]
  },
  {
   "cell_type": "code",
   "execution_count": null,
   "metadata": {},
   "outputs": [],
   "source": [
    "import numpy as np \n",
    "from scipy import stats \n",
    "\n",
    "X = stats.chi(10)\n",
    "\n",
    "a = X.cdf(3)\n",
    "b = X.sf(3)\n",
    "\n",
    "print(a, b, a + b)"
   ]
  },
  {
   "cell_type": "markdown",
   "metadata": {},
   "source": [
    "---\n",
    "## 4.4 - Gráficas de las funciones de distribución\n",
    "\n",
    "Con la ayuda de Matplotlib es posible y deseable graficar la forma de las funciones de distribución. Por ejemplo, con la función normal y recordando que su distribución está dada por:\n",
    "\n",
    "$${\\displaystyle f_X(x) = {\\frac {1}{\\sqrt {2\\pi \\sigma ^{2}}}}e^{-{\\frac {(x-\\mu )^{2}}{2\\sigma ^{2}}}}}$$\n",
    "\n",
    "entonces se obtienen las gráficas de la función de densidad y la función acumulativa."
   ]
  },
  {
   "cell_type": "code",
   "execution_count": null,
   "metadata": {},
   "outputs": [],
   "source": [
    "import numpy as np \n",
    "from scipy import stats \n",
    "import matplotlib.pyplot as plt\n",
    "\n",
    "# Crear \"objeto\" normal\n",
    "X = stats.norm(0, 1)\n",
    "\n",
    "# Crear un rango de valores de x en \"todo el rango porcentual\"\n",
    "x = np.linspace(X.ppf(0.01), X.ppf(0.99), 100)\n",
    "\n",
    "# ---\n",
    "# Función de densidad de probabilidad\n",
    "# ---\n",
    "\n",
    "plt.plot(x, X.pdf(x))\n",
    "\n",
    "# Configurar área del gráfico\n",
    "plt.title('Distribución normal')\n",
    "plt.ylabel('$f_X(x)$')\n",
    "plt.xlabel('$x$')\n",
    "plt.show()\n",
    "plt.figure()\n",
    "\n",
    "# ---\n",
    "# Función de probabilidad acumulativa\n",
    "# ---\n",
    "\n",
    "plt.plot(x, X.cdf(x))\n",
    "plt.plot(x, X.sf(x))\n",
    "\n",
    "# Configurar área del gráfico\n",
    "plt.title('Distribución normal')\n",
    "plt.legend(['$F_X(x)$','$S_X(x)$'])\n",
    "plt.xlabel('$x$')\n",
    "plt.show()"
   ]
  },
  {
   "cell_type": "markdown",
   "metadata": {},
   "source": [
    "---\n",
    "## 4.5 - Modificación de parámetros de la distribución\n",
    "\n",
    "Todas las variables aleatorias están definidas por parámetros (con símbolos distintos, como $\\lambda$, $\\mu$, $\\alpha$, etc.). En el módulo `stats`, sin embargo, los parámetros están especificados generalmente como \"ubicación\" y \"escala\". Sin cambiar ninguno de estos parámetros, las distribuciones están **normalizadas** o **estandarizadas**. El efecto que tienen los parámetros es:\n",
    "\n",
    "* `loc` (*location*) va a desplazar la media de la distribución.\n",
    "* `scale` va a \"dispersar\" la distribución.\n",
    "\n",
    "### 4.5.1 - Ejemplo con la distribución de Rayleigh\n",
    "\n",
    "La función de densidad de probabilidad de Rayleigh es\n",
    "\n",
    "$${\\displaystyle f_X(x) = {\\frac {x}{\\sigma ^{2}}}e^{-x^{2}/\\left(2\\sigma ^{2}\\right)}}$$\n",
    "\n",
    "Para $x \\geq 0$. Y normalizada ($\\sigma = 1$) es\n",
    "\n",
    "$${\\displaystyle f_X(x) = {{x}}e^{-x^{2}/2}}$$\n",
    "\n",
    "Para modificarlo en `stats` se hace \n",
    "\n",
    "* `rayleigh.pdf(x, loc, scale)`, que es equivalente a \n",
    "* `rayleigh.pdf(y) / scale` con `y = (x - loc) / scale`\n",
    "\n",
    "Es decir,\n",
    "\n",
    "$${ \\displaystyle f_X(x) = {\\frac {(x - \\mathsf{loc})}{\\mathsf{scale}^2}} e^{\\frac{-(x - \\mathsf{loc})^{2}}{(2~\\cdot~ \\mathsf{scale}^2)}} }$$\n",
    "\n",
    "Y corresponde en este caso específico que $\\sigma$ = `scale`. En ocasiones se utiliza como notación `shift` = `loc` pues es, en efecto, un desplazamiento a $x_0$."
   ]
  },
  {
   "cell_type": "code",
   "execution_count": null,
   "metadata": {},
   "outputs": [],
   "source": [
    "import numpy as np \n",
    "from scipy import stats \n",
    "import matplotlib.pyplot as plt\n",
    "\n",
    "# Rango de valores de ubicación y escala\n",
    "locs = range(1,6)\n",
    "scales = range(1,6)\n",
    "\n",
    "# Gráfica para varios parámetros de escala\n",
    "plt.figure()\n",
    "plt.title('Distribución de Rayleigh con varios parámetros de escala')\n",
    "plt.ylabel('$f_X(x)$')\n",
    "plt.xlabel('$x$')\n",
    "for scale in scales:\n",
    "    R = stats.rayleigh(0, scale)\n",
    "    x = np.linspace(0, 16, 100)\n",
    "    plt.plot(x, R.pdf(x), label='$\\sigma$ = ' + str(scale))\n",
    "    plt.legend()\n",
    "\n",
    "# Gráfica para varios parámetros de ubicación\n",
    "plt.figure()\n",
    "plt.title('Distribución de Rayleigh con varios parámetros de ubicación')\n",
    "plt.ylabel('$f_X(x)$')\n",
    "plt.xlabel('$x$')\n",
    "for loc in locs:\n",
    "    R = stats.rayleigh(loc, 4)\n",
    "    x = np.linspace(loc, 20, 100)\n",
    "    plt.plot(x, R.pdf(x), label='$x_0$ = ' + str(loc))\n",
    "    plt.legend()"
   ]
  },
  {
   "cell_type": "markdown",
   "metadata": {},
   "source": [
    "---\n",
    "## 4.6. - Cálculo de probabilidades\n",
    "\n",
    "Típicamente, el cálculo de probabilidades se hace de dos formas:\n",
    "\n",
    "* Con la integración en una región $\\mathcal{R}$ de la función de densidad $f_X(x)$.\n",
    "* Con la función acumulativa, de la forma $P(a < X < b) = F_X(b) - F_X(a)$.\n",
    "\n",
    "### 4.6.1. - Integración de la función de densidad\n",
    "\n",
    "La librería ofrece formas de hacer la integración numérica\n",
    "\n",
    "$$\n",
    "\\int_{\\mathcal{R}} f_X(x) ~\\mathrm{d}x\n",
    "$$\n",
    "\n",
    "#### Ejemplo de la probabilidad en una distribución exponencial\n",
    "\n",
    "La variable aleatoria exponencial tiene PDF:\n",
    "\n",
    "$$\n",
    "f_X(x) = \\lambda e^{-\\lambda x}\n",
    "$$\n",
    "\n",
    "donde es posible determinar que $E[X] = 1/\\lambda$ y también $\\sigma_X^2 = 1/\\lambda^2$.\n",
    "\n",
    "El módulo `integrate` de `scipy` (información [aquí](https://docs.scipy.org/doc/scipy/reference/tutorial/integrate.html)) realiza integraciones numéricas con distintos métodos, según sean funciones o muestras de datos. El método `quad` realiza integraciones de uso general."
   ]
  },
  {
   "cell_type": "code",
   "execution_count": null,
   "metadata": {},
   "outputs": [],
   "source": [
    "import numpy as np\n",
    "from scipy.integrate import quad\n",
    "\n",
    "# Definición de la función a integrar\n",
    "def exponencial(x, lbd):\n",
    "    return lbd * np.exp(-lbd * x)\n",
    "\n",
    "# Integral para 1 < X < 3 con lambda = 0.5\n",
    "a, _ = quad(exponencial,1,3,args=(0.5))\n",
    "\n",
    "# Integral para 5 < X < infinito con lambda = 0.5\n",
    "b, _ = quad(exponencial,4,np.inf,args=(0.5))\n",
    "\n",
    "print(a)\n",
    "print(b)"
   ]
  },
  {
   "cell_type": "markdown",
   "metadata": {},
   "source": [
    "Alternativamente, con la [función](https://docs.scipy.org/doc/scipy/reference/generated/scipy.integrate.trapz.html) `trapz` se puede integrar una función $f(x)$ sobre $x$, utilizando así las funciones de densidad de `stats`.\n",
    "\n",
    "**Nota**: no confundir `trapz` la integración de `scipy.integrate` con `trapz` la distribución de probabilidad de `scipy.stats`."
   ]
  },
  {
   "cell_type": "code",
   "execution_count": null,
   "metadata": {},
   "outputs": [],
   "source": [
    "import numpy as np\n",
    "from scipy import stats, trapz\n",
    "\n",
    "# Exponencial con parámetros loc = 0 y scale = 1/lambda\n",
    "X = stats.expon(0,1/0.5)\n",
    "\n",
    "# Integral para 1 < X < 3 con lambda = 0.5\n",
    "x = np.linspace(1, 3, 100)\n",
    "a = trapz(X.pdf(x), x)\n",
    "\n",
    "# Integral para 4 < X < infinito con lambda = 0.5\n",
    "x = np.linspace(4, X.ppf(0.999), 100)\n",
    "b = trapz(X.pdf(x), x)\n",
    "\n",
    "print(a)\n",
    "print(b)"
   ]
  },
  {
   "cell_type": "markdown",
   "metadata": {},
   "source": [
    "---\n",
    "### 4.6.2. - Resta de la función de probabilidad acumulativa\n",
    "\n",
    "Conociendo que\n",
    "\n",
    "$$P(a < X < b) = F_X(b) - F_X(a)$$\n",
    "\n",
    "es fácil hacer la evaluación con las herramientas de `stats`."
   ]
  },
  {
   "cell_type": "code",
   "execution_count": null,
   "metadata": {},
   "outputs": [],
   "source": [
    "import numpy as np\n",
    "from scipy import stats, trapz\n",
    "\n",
    "# Exponencial con parámetros loc = 0 y scale = 1/lambda\n",
    "X = stats.expon(0,1/0.5)\n",
    "\n",
    "# Probabilidad para 1 < X < 3 con lambda = 0.5\n",
    "a = X.cdf(3) - X.cdf(1)\n",
    "\n",
    "# Probabilidad para 4 < X < infinito con lambda = 0.5\n",
    "b = X.cdf(np.inf) - X.cdf(4)\n",
    "\n",
    "print(a)\n",
    "print(b)"
   ]
  },
  {
   "cell_type": "markdown",
   "metadata": {},
   "source": [
    "---\n",
    "### Más información\n",
    "\n",
    "* [Statistical functions (scipy.stats)](https://docs.scipy.org/doc/scipy/reference/stats.html)\n"
   ]
  },
  {
   "cell_type": "markdown",
   "metadata": {},
   "source": [
    "---\n",
    "**Universidad de Costa Rica** | Facultad de Ingeniería | Escuela de Ingeniería Eléctrica\n",
    "\n",
    "&copy; 2021\n",
    "\n",
    "---"
   ]
  }
 ],
 "metadata": {
  "kernelspec": {
   "display_name": "Python 3",
   "language": "python",
   "name": "python3"
  },
  "language_info": {
   "codemirror_mode": {
    "name": "ipython",
    "version": 3
   },
   "file_extension": ".py",
   "mimetype": "text/x-python",
   "name": "python",
   "nbconvert_exporter": "python",
   "pygments_lexer": "ipython3",
   "version": "3.7.10"
  }
 },
 "nbformat": 4,
 "nbformat_minor": 2
}
