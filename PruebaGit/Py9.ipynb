{
 "cells": [
  {
   "cell_type": "markdown",
   "metadata": {},
   "source": [
    "---\n",
    "### Universidad de Costa Rica\n",
    "#### IE0405 - Modelos Probabilísticos de Señales y Sistemas\n",
    "---\n",
    "\n",
    "# `Py9` - *Documentación de código*\n",
    "\n",
    "> Utilizando las reglas de los *docstrings* en Python, un proyecto con archivos bien comentados pueden convertirse en una **documentación** disponible en distintos formatos de presentación (PDF, HTML, ePub, entre otros) que es útil para los usuarios del software y para la presentación de resultados en contextos de desarrollo académico o profesional.\n",
    "\n",
    "---"
   ]
  },
  {
   "cell_type": "markdown",
   "metadata": {},
   "source": [
    "## Introducción\n",
    "\n",
    "### *Docstrings*\n",
    "\n",
    "Un [*docstring*](https://www.python.org/dev/peps/pep-0257/) es una cadena de caracteres que viene como primera información en la definición de clases, métodos, módulos o funciones.\n",
    "\n",
    "> Este *docstring* se convierte en el atributo especial `__doc__` de ese objeto.\n",
    "\n",
    "Está acotado por la notación de triple comillas:\n",
    "\n",
    "```python\n",
    "def foo():\n",
    "    \"\"\"\n",
    "    Este es un comentario que funciones como docstring.\n",
    "    \"\"\"\n",
    "    (...)\n",
    "```\n",
    "\n",
    "### reStructuredText\n",
    "\n",
    "El estándar **reStructuredText** es utilizado para dar formato al texto.\n",
    "\n",
    "### Referencia\n",
    "\n",
    "Usar este artículo como referencia (o cualquier otro): https://realpython.com/documenting-python-code/"
   ]
  },
  {
   "cell_type": "markdown",
   "metadata": {},
   "source": [
    "---\n",
    "## 9.1 - Sphinx\n",
    "\n",
    "Aun sin conocer una expresión para la función de densidad $f_Y(y)$ de una variable aleatoria $Y$ producto de una transformación $Y = T(X)$, es posible conocer el efecto que tiene esta transformación sobre una muestra de datos aleatorios con una distribución de probabilidad $X$ conocida."
   ]
  },
  {
   "cell_type": "code",
   "execution_count": null,
   "metadata": {},
   "outputs": [],
   "source": [
    "import numpy as np"
   ]
  },
  {
   "cell_type": "markdown",
   "metadata": {},
   "source": [
    "---\n",
    "## 8.2 - Ejemplo del canal de comunicaciones AWGN con la modulación OOK\n",
    "\n",
    "La modulación **OOK** (*on/off keying*, codificación por encendido y apagado) consiste en enviar una forma de onda sinusoidal para el bit 1, y no enviar nada para el bit 0. Esta es una modulación binaria de un bit por símbolo.\n",
    "\n",
    "#### Generación de los bits"
   ]
  },
  {
   "cell_type": "code",
   "execution_count": null,
   "metadata": {},
   "outputs": [],
   "source": [
    "import numpy as np"
   ]
  },
  {
   "cell_type": "markdown",
   "metadata": {},
   "source": [
    "---\n",
    "### Más información\n",
    "\n",
    "* Función [scipy.integrate.trapz](https://docs.scipy.org/doc/scipy/reference/generated/scipy.integrate.trapz.html)\n",
    "* Modulación [OOK](https://en.wikipedia.org/wiki/On%E2%80%93off_keying)\n",
    "---"
   ]
  },
  {
   "cell_type": "markdown",
   "metadata": {},
   "source": [
    "---\n",
    "\n",
    "**Universidad de Costa Rica**\n",
    "\n",
    "Facultad de Ingeniería\n",
    "\n",
    "Escuela de Ingeniería Eléctrica\n",
    "\n",
    "---"
   ]
  }
 ],
 "metadata": {
  "kernelspec": {
   "display_name": "Python 3",
   "language": "python",
   "name": "python3"
  },
  "language_info": {
   "codemirror_mode": {
    "name": "ipython",
    "version": 3
   },
   "file_extension": ".py",
   "mimetype": "text/x-python",
   "name": "python",
   "nbconvert_exporter": "python",
   "pygments_lexer": "ipython3",
   "version": "3.7.1"
  }
 },
 "nbformat": 4,
 "nbformat_minor": 2
}
